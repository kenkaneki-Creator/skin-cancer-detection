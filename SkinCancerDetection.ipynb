{
  "cells": [
    {
      "cell_type": "markdown",
      "metadata": {
        "id": "view-in-github",
        "colab_type": "text"
      },
      "source": [
        "<a href=\"https://colab.research.google.com/github/kenkaneki-Creator/skin-cancer-detection/blob/main/SkinCancerDetection.ipynb\" target=\"_parent\"><img src=\"https://colab.research.google.com/assets/colab-badge.svg\" alt=\"Open In Colab\"/></a>"
      ]
    },
    {
      "cell_type": "code",
      "execution_count": null,
      "metadata": {
        "colab": {
          "base_uri": "https://localhost:8080/"
        },
        "id": "TLyc3OMRYT-g",
        "outputId": "68f13b87-1250-4988-f1ed-67cac1d55ca0"
      },
      "outputs": [
        {
          "output_type": "stream",
          "name": "stdout",
          "text": [
            "Drive already mounted at /content/drive; to attempt to forcibly remount, call drive.mount(\"/content/drive\", force_remount=True).\n"
          ]
        }
      ],
      "source": [
        "from google.colab import drive\n",
        "drive.mount('/content/drive')"
      ]
    },
    {
      "cell_type": "code",
      "execution_count": null,
      "metadata": {
        "id": "y5sEd9N-EChn"
      },
      "outputs": [],
      "source": [
        "import os\n",
        "import shutil\n",
        "import numpy as np\n",
        "import pandas as pd\n",
        "import tensorflow as tf\n",
        "import matplotlib.pyplot as plt\n",
        "import seaborn as sns\n",
        "import cv2\n",
        "import sklearn\n",
        "import itertools\n",
        "from sklearn.metrics import classification_report\n",
        "from keras.applications import *\n",
        "from keras.layers import *\n",
        "from keras.models import Model, load_model\n",
        "from keras.optimizers import Adam\n",
        "from sklearn.utils import class_weight\n",
        "from tqdm import tqdm\n",
        "from tensorflow.keras.preprocessing.image import ImageDataGenerator\n",
        "from tensorflow.keras.applications.xception import preprocess_input as base_preprocess\n",
        "from tensorflow.keras.callbacks import ReduceLROnPlateau, EarlyStopping, ModelCheckpoint\n",
        "from keras.applications.xception import preprocess_input as base_preprocess\n",
        "from keras.callbacks import ReduceLROnPlateau, EarlyStopping, ModelCheckpoint\n",
        "from sklearn.metrics import classification_report, confusion_matrix, roc_auc_score, roc_curve, RocCurveDisplay, auc\n",
        "from sklearn.utils.multiclass import unique_labels\n",
        "from collections import Counter\n",
        "from pathlib import Path\n",
        "from sklearn.model_selection import train_test_split\n",
        "from keras.utils import to_categorical\n",
        "from PIL import Image\n",
        "from sklearn.preprocessing import LabelEncoder\n",
        "from sklearn.utils.class_weight import compute_class_weight"
      ]
    },
    {
      "cell_type": "code",
      "execution_count": null,
      "metadata": {
        "id": "Jktz2h6dJE6q"
      },
      "outputs": [],
      "source": [
        "tf.config.list_physical_devices('GPU')\n",
        "physical_devices = tf.config.list_physical_devices('GPU')\n",
        "try:\n",
        "    tf.config.experimental.set_memory_growth/(physical_devices[0], True)\n",
        "except:\n",
        "    pass"
      ]
    },
    {
      "cell_type": "code",
      "execution_count": null,
      "metadata": {
        "id": "daZKqebvjDDB"
      },
      "outputs": [],
      "source": [
        "#datagen = ImageDataGenerator(rescale=1./255, validation_split=0.2)"
      ]
    },
    {
      "cell_type": "code",
      "execution_count": null,
      "metadata": {
        "id": "miDXd7xwj3af"
      },
      "outputs": [],
      "source": [
        "dataset_path = '/content/drive/MyDrive/skin cancer detection'\n"
      ]
    },
    {
      "cell_type": "code",
      "execution_count": null,
      "metadata": {
        "id": "-WAfAHC0rgKV"
      },
      "outputs": [],
      "source": [
        "from keras.models import Sequential\n",
        "from keras import optimizers\n",
        "from keras.layers import Dense, Conv2D, Dropout, Flatten, MaxPooling2D\n",
        "from keras.applications import MobileNetV2"
      ]
    },
    {
      "cell_type": "code",
      "source": [],
      "metadata": {
        "id": "6NBp9OywpGKh"
      },
      "execution_count": null,
      "outputs": []
    },
    {
      "cell_type": "code",
      "execution_count": null,
      "metadata": {
        "id": "ulvks_1Zsh35"
      },
      "outputs": [],
      "source": [
        "base_model=MobileNetV2(include_top=False, weights=\"imagenet\", input_shape=(224,224,3))"
      ]
    },
    {
      "cell_type": "code",
      "execution_count": null,
      "metadata": {
        "id": "fYiZFrizs8XB"
      },
      "outputs": [],
      "source": [
        "model=Sequential()\n",
        "model.add(base_model)\n",
        "model.add(Conv2D(64,(3,3), activation='relu'))\n",
        "model.add(MaxPooling2D(pool_size=(2,2)))\n",
        "model.add(Dropout(0.40))\n",
        "model.add(Flatten())\n",
        "model.add(Dense(128,activation='relu'))\n",
        "model.add(Dropout(0.4))\n",
        "model.add(Dense(7, activation='sigmoid'))"
      ]
    },
    {
      "cell_type": "code",
      "execution_count": null,
      "metadata": {
        "colab": {
          "base_uri": "https://localhost:8080/",
          "height": 363
        },
        "id": "yQyW3KKntz6q",
        "outputId": "81467da8-5c45-4c02-d37e-903381175a02"
      },
      "outputs": [
        {
          "output_type": "execute_result",
          "data": {
            "text/plain": [
              "       image_full_name     dx    lesion_id\n",
              "2280  ISIC_0030604.jpg    mel  HAM_0002613\n",
              "3206  ISIC_0027426.jpg     nv  HAM_0004381\n",
              "8756  ISIC_0026610.jpg     nv  HAM_0004279\n",
              "7445  ISIC_0033650.jpg     nv  HAM_0001218\n",
              "2775  ISIC_0032307.jpg    bcc  HAM_0001301\n",
              "9998  ISIC_0033358.jpg  akiec  HAM_0004282\n",
              "5602  ISIC_0026879.jpg     nv  HAM_0002393\n",
              "429   ISIC_0029217.jpg    bkl  HAM_0002316\n",
              "23    ISIC_0032128.jpg    bkl  HAM_0004884\n",
              "7521  ISIC_0033729.jpg     nv  HAM_0000439"
            ],
            "text/html": [
              "\n",
              "  <div id=\"df-5532052e-05ab-4f76-8a8c-ea57d3cd18f3\" class=\"colab-df-container\">\n",
              "    <div>\n",
              "<style scoped>\n",
              "    .dataframe tbody tr th:only-of-type {\n",
              "        vertical-align: middle;\n",
              "    }\n",
              "\n",
              "    .dataframe tbody tr th {\n",
              "        vertical-align: top;\n",
              "    }\n",
              "\n",
              "    .dataframe thead th {\n",
              "        text-align: right;\n",
              "    }\n",
              "</style>\n",
              "<table border=\"1\" class=\"dataframe\">\n",
              "  <thead>\n",
              "    <tr style=\"text-align: right;\">\n",
              "      <th></th>\n",
              "      <th>image_full_name</th>\n",
              "      <th>dx</th>\n",
              "      <th>lesion_id</th>\n",
              "    </tr>\n",
              "  </thead>\n",
              "  <tbody>\n",
              "    <tr>\n",
              "      <th>2280</th>\n",
              "      <td>ISIC_0030604.jpg</td>\n",
              "      <td>mel</td>\n",
              "      <td>HAM_0002613</td>\n",
              "    </tr>\n",
              "    <tr>\n",
              "      <th>3206</th>\n",
              "      <td>ISIC_0027426.jpg</td>\n",
              "      <td>nv</td>\n",
              "      <td>HAM_0004381</td>\n",
              "    </tr>\n",
              "    <tr>\n",
              "      <th>8756</th>\n",
              "      <td>ISIC_0026610.jpg</td>\n",
              "      <td>nv</td>\n",
              "      <td>HAM_0004279</td>\n",
              "    </tr>\n",
              "    <tr>\n",
              "      <th>7445</th>\n",
              "      <td>ISIC_0033650.jpg</td>\n",
              "      <td>nv</td>\n",
              "      <td>HAM_0001218</td>\n",
              "    </tr>\n",
              "    <tr>\n",
              "      <th>2775</th>\n",
              "      <td>ISIC_0032307.jpg</td>\n",
              "      <td>bcc</td>\n",
              "      <td>HAM_0001301</td>\n",
              "    </tr>\n",
              "    <tr>\n",
              "      <th>9998</th>\n",
              "      <td>ISIC_0033358.jpg</td>\n",
              "      <td>akiec</td>\n",
              "      <td>HAM_0004282</td>\n",
              "    </tr>\n",
              "    <tr>\n",
              "      <th>5602</th>\n",
              "      <td>ISIC_0026879.jpg</td>\n",
              "      <td>nv</td>\n",
              "      <td>HAM_0002393</td>\n",
              "    </tr>\n",
              "    <tr>\n",
              "      <th>429</th>\n",
              "      <td>ISIC_0029217.jpg</td>\n",
              "      <td>bkl</td>\n",
              "      <td>HAM_0002316</td>\n",
              "    </tr>\n",
              "    <tr>\n",
              "      <th>23</th>\n",
              "      <td>ISIC_0032128.jpg</td>\n",
              "      <td>bkl</td>\n",
              "      <td>HAM_0004884</td>\n",
              "    </tr>\n",
              "    <tr>\n",
              "      <th>7521</th>\n",
              "      <td>ISIC_0033729.jpg</td>\n",
              "      <td>nv</td>\n",
              "      <td>HAM_0000439</td>\n",
              "    </tr>\n",
              "  </tbody>\n",
              "</table>\n",
              "</div>\n",
              "    <div class=\"colab-df-buttons\">\n",
              "\n",
              "  <div class=\"colab-df-container\">\n",
              "    <button class=\"colab-df-convert\" onclick=\"convertToInteractive('df-5532052e-05ab-4f76-8a8c-ea57d3cd18f3')\"\n",
              "            title=\"Convert this dataframe to an interactive table.\"\n",
              "            style=\"display:none;\">\n",
              "\n",
              "  <svg xmlns=\"http://www.w3.org/2000/svg\" height=\"24px\" viewBox=\"0 -960 960 960\">\n",
              "    <path d=\"M120-120v-720h720v720H120Zm60-500h600v-160H180v160Zm220 220h160v-160H400v160Zm0 220h160v-160H400v160ZM180-400h160v-160H180v160Zm440 0h160v-160H620v160ZM180-180h160v-160H180v160Zm440 0h160v-160H620v160Z\"/>\n",
              "  </svg>\n",
              "    </button>\n",
              "\n",
              "  <style>\n",
              "    .colab-df-container {\n",
              "      display:flex;\n",
              "      gap: 12px;\n",
              "    }\n",
              "\n",
              "    .colab-df-convert {\n",
              "      background-color: #E8F0FE;\n",
              "      border: none;\n",
              "      border-radius: 50%;\n",
              "      cursor: pointer;\n",
              "      display: none;\n",
              "      fill: #1967D2;\n",
              "      height: 32px;\n",
              "      padding: 0 0 0 0;\n",
              "      width: 32px;\n",
              "    }\n",
              "\n",
              "    .colab-df-convert:hover {\n",
              "      background-color: #E2EBFA;\n",
              "      box-shadow: 0px 1px 2px rgba(60, 64, 67, 0.3), 0px 1px 3px 1px rgba(60, 64, 67, 0.15);\n",
              "      fill: #174EA6;\n",
              "    }\n",
              "\n",
              "    .colab-df-buttons div {\n",
              "      margin-bottom: 4px;\n",
              "    }\n",
              "\n",
              "    [theme=dark] .colab-df-convert {\n",
              "      background-color: #3B4455;\n",
              "      fill: #D2E3FC;\n",
              "    }\n",
              "\n",
              "    [theme=dark] .colab-df-convert:hover {\n",
              "      background-color: #434B5C;\n",
              "      box-shadow: 0px 1px 3px 1px rgba(0, 0, 0, 0.15);\n",
              "      filter: drop-shadow(0px 1px 2px rgba(0, 0, 0, 0.3));\n",
              "      fill: #FFFFFF;\n",
              "    }\n",
              "  </style>\n",
              "\n",
              "    <script>\n",
              "      const buttonEl =\n",
              "        document.querySelector('#df-5532052e-05ab-4f76-8a8c-ea57d3cd18f3 button.colab-df-convert');\n",
              "      buttonEl.style.display =\n",
              "        google.colab.kernel.accessAllowed ? 'block' : 'none';\n",
              "\n",
              "      async function convertToInteractive(key) {\n",
              "        const element = document.querySelector('#df-5532052e-05ab-4f76-8a8c-ea57d3cd18f3');\n",
              "        const dataTable =\n",
              "          await google.colab.kernel.invokeFunction('convertToInteractive',\n",
              "                                                    [key], {});\n",
              "        if (!dataTable) return;\n",
              "\n",
              "        const docLinkHtml = 'Like what you see? Visit the ' +\n",
              "          '<a target=\"_blank\" href=https://colab.research.google.com/notebooks/data_table.ipynb>data table notebook</a>'\n",
              "          + ' to learn more about interactive tables.';\n",
              "        element.innerHTML = '';\n",
              "        dataTable['output_type'] = 'display_data';\n",
              "        await google.colab.output.renderOutput(dataTable, element);\n",
              "        const docLink = document.createElement('div');\n",
              "        docLink.innerHTML = docLinkHtml;\n",
              "        element.appendChild(docLink);\n",
              "      }\n",
              "    </script>\n",
              "  </div>\n",
              "\n",
              "\n",
              "<div id=\"df-d6563e9e-1c5c-45f2-bcfe-650ffeefcefc\">\n",
              "  <button class=\"colab-df-quickchart\" onclick=\"quickchart('df-d6563e9e-1c5c-45f2-bcfe-650ffeefcefc')\"\n",
              "            title=\"Suggest charts\"\n",
              "            style=\"display:none;\">\n",
              "\n",
              "<svg xmlns=\"http://www.w3.org/2000/svg\" height=\"24px\"viewBox=\"0 0 24 24\"\n",
              "     width=\"24px\">\n",
              "    <g>\n",
              "        <path d=\"M19 3H5c-1.1 0-2 .9-2 2v14c0 1.1.9 2 2 2h14c1.1 0 2-.9 2-2V5c0-1.1-.9-2-2-2zM9 17H7v-7h2v7zm4 0h-2V7h2v10zm4 0h-2v-4h2v4z\"/>\n",
              "    </g>\n",
              "</svg>\n",
              "  </button>\n",
              "\n",
              "<style>\n",
              "  .colab-df-quickchart {\n",
              "      --bg-color: #E8F0FE;\n",
              "      --fill-color: #1967D2;\n",
              "      --hover-bg-color: #E2EBFA;\n",
              "      --hover-fill-color: #174EA6;\n",
              "      --disabled-fill-color: #AAA;\n",
              "      --disabled-bg-color: #DDD;\n",
              "  }\n",
              "\n",
              "  [theme=dark] .colab-df-quickchart {\n",
              "      --bg-color: #3B4455;\n",
              "      --fill-color: #D2E3FC;\n",
              "      --hover-bg-color: #434B5C;\n",
              "      --hover-fill-color: #FFFFFF;\n",
              "      --disabled-bg-color: #3B4455;\n",
              "      --disabled-fill-color: #666;\n",
              "  }\n",
              "\n",
              "  .colab-df-quickchart {\n",
              "    background-color: var(--bg-color);\n",
              "    border: none;\n",
              "    border-radius: 50%;\n",
              "    cursor: pointer;\n",
              "    display: none;\n",
              "    fill: var(--fill-color);\n",
              "    height: 32px;\n",
              "    padding: 0;\n",
              "    width: 32px;\n",
              "  }\n",
              "\n",
              "  .colab-df-quickchart:hover {\n",
              "    background-color: var(--hover-bg-color);\n",
              "    box-shadow: 0 1px 2px rgba(60, 64, 67, 0.3), 0 1px 3px 1px rgba(60, 64, 67, 0.15);\n",
              "    fill: var(--button-hover-fill-color);\n",
              "  }\n",
              "\n",
              "  .colab-df-quickchart-complete:disabled,\n",
              "  .colab-df-quickchart-complete:disabled:hover {\n",
              "    background-color: var(--disabled-bg-color);\n",
              "    fill: var(--disabled-fill-color);\n",
              "    box-shadow: none;\n",
              "  }\n",
              "\n",
              "  .colab-df-spinner {\n",
              "    border: 2px solid var(--fill-color);\n",
              "    border-color: transparent;\n",
              "    border-bottom-color: var(--fill-color);\n",
              "    animation:\n",
              "      spin 1s steps(1) infinite;\n",
              "  }\n",
              "\n",
              "  @keyframes spin {\n",
              "    0% {\n",
              "      border-color: transparent;\n",
              "      border-bottom-color: var(--fill-color);\n",
              "      border-left-color: var(--fill-color);\n",
              "    }\n",
              "    20% {\n",
              "      border-color: transparent;\n",
              "      border-left-color: var(--fill-color);\n",
              "      border-top-color: var(--fill-color);\n",
              "    }\n",
              "    30% {\n",
              "      border-color: transparent;\n",
              "      border-left-color: var(--fill-color);\n",
              "      border-top-color: var(--fill-color);\n",
              "      border-right-color: var(--fill-color);\n",
              "    }\n",
              "    40% {\n",
              "      border-color: transparent;\n",
              "      border-right-color: var(--fill-color);\n",
              "      border-top-color: var(--fill-color);\n",
              "    }\n",
              "    60% {\n",
              "      border-color: transparent;\n",
              "      border-right-color: var(--fill-color);\n",
              "    }\n",
              "    80% {\n",
              "      border-color: transparent;\n",
              "      border-right-color: var(--fill-color);\n",
              "      border-bottom-color: var(--fill-color);\n",
              "    }\n",
              "    90% {\n",
              "      border-color: transparent;\n",
              "      border-bottom-color: var(--fill-color);\n",
              "    }\n",
              "  }\n",
              "</style>\n",
              "\n",
              "  <script>\n",
              "    async function quickchart(key) {\n",
              "      const quickchartButtonEl =\n",
              "        document.querySelector('#' + key + ' button');\n",
              "      quickchartButtonEl.disabled = true;  // To prevent multiple clicks.\n",
              "      quickchartButtonEl.classList.add('colab-df-spinner');\n",
              "      try {\n",
              "        const charts = await google.colab.kernel.invokeFunction(\n",
              "            'suggestCharts', [key], {});\n",
              "      } catch (error) {\n",
              "        console.error('Error during call to suggestCharts:', error);\n",
              "      }\n",
              "      quickchartButtonEl.classList.remove('colab-df-spinner');\n",
              "      quickchartButtonEl.classList.add('colab-df-quickchart-complete');\n",
              "    }\n",
              "    (() => {\n",
              "      let quickchartButtonEl =\n",
              "        document.querySelector('#df-d6563e9e-1c5c-45f2-bcfe-650ffeefcefc button');\n",
              "      quickchartButtonEl.style.display =\n",
              "        google.colab.kernel.accessAllowed ? 'block' : 'none';\n",
              "    })();\n",
              "  </script>\n",
              "</div>\n",
              "\n",
              "    </div>\n",
              "  </div>\n"
            ],
            "application/vnd.google.colaboratory.intrinsic+json": {
              "type": "dataframe",
              "summary": "{\n  \"name\": \"x\",\n  \"rows\": 10,\n  \"fields\": [\n    {\n      \"column\": \"image_full_name\",\n      \"properties\": {\n        \"dtype\": \"string\",\n        \"num_unique_values\": 10,\n        \"samples\": [\n          \"ISIC_0032128.jpg\",\n          \"ISIC_0027426.jpg\",\n          \"ISIC_0033358.jpg\"\n        ],\n        \"semantic_type\": \"\",\n        \"description\": \"\"\n      }\n    },\n    {\n      \"column\": \"dx\",\n      \"properties\": {\n        \"dtype\": \"string\",\n        \"num_unique_values\": 5,\n        \"samples\": [\n          \"nv\",\n          \"bkl\",\n          \"bcc\"\n        ],\n        \"semantic_type\": \"\",\n        \"description\": \"\"\n      }\n    },\n    {\n      \"column\": \"lesion_id\",\n      \"properties\": {\n        \"dtype\": \"string\",\n        \"num_unique_values\": 10,\n        \"samples\": [\n          \"HAM_0004884\",\n          \"HAM_0004381\",\n          \"HAM_0004282\"\n        ],\n        \"semantic_type\": \"\",\n        \"description\": \"\"\n      }\n    }\n  ]\n}"
            }
          },
          "metadata": {},
          "execution_count": 10
        }
      ],
      "source": [
        "data=pd.read_csv(\"/content/drive/MyDrive/skin cancer detection/HAM10000_metadata.csv\")\n",
        "data['image_full_name']=data['image_id']+'.jpg'\n",
        "x=data[['image_full_name','dx','lesion_id']]\n",
        "x.sample(10)\n"
      ]
    },
    {
      "cell_type": "code",
      "execution_count": null,
      "metadata": {
        "id": "Y5x2riAuvQDx"
      },
      "outputs": [],
      "source": [
        "from sklearn.model_selection import train_test_split\n",
        "y=x.pop('dx').to_frame()\n",
        "x_train, x_test, y_train, y_test= train_test_split(x,y,test_size=0.17, random_state=42)\n",
        "x_train, x_val, y_train, y_val= train_test_split(x_train, y_train, test_size=0.17, random_state=42)\n"
      ]
    },
    {
      "cell_type": "code",
      "execution_count": null,
      "metadata": {
        "id": "H4Prwi-A2SkZ"
      },
      "outputs": [],
      "source": [
        "train=pd.concat([x_train,y_train], axis=1)\n",
        "val=pd.concat([x_val,y_val], axis=1)\n",
        "test=pd.concat([x_test,y_test], axis=1)"
      ]
    },
    {
      "cell_type": "code",
      "execution_count": null,
      "metadata": {
        "id": "Oc_GnZFI1bql"
      },
      "outputs": [],
      "source": [
        "from sklearn.preprocessing import LabelEncoder\n",
        "encoder=LabelEncoder()\n",
        "encoder.fit(y_train['dx'])\n",
        "train['label'] = encoder.transform(train['dx'])\n",
        "val['label'] = encoder.transform(val['dx'])\n",
        "test['label'] = encoder.transform(test['dx'])\n",
        "#encoder.fit(val['dx'])\n",
        "#name_as_indexes_train=encoder.transform(val['dx'])\n",
        "#val['label']=name_as_indexes_train"
      ]
    },
    {
      "cell_type": "code",
      "execution_count": null,
      "metadata": {
        "id": "UiL9V8sq208z"
      },
      "outputs": [],
      "source": [
        "#encoder=LabelEncoder()\n",
        "\n",
        "\n",
        "#encoder.fit(test['dx'])\n",
        "#name_as_indexes_test=encoder.transform(test['dx'])\n",
        "#test['label']=name_as_indexes_test"
      ]
    },
    {
      "cell_type": "code",
      "execution_count": null,
      "metadata": {
        "id": "7wyqKM4V5I4l"
      },
      "outputs": [],
      "source": [
        "train_generator = ImageDataGenerator(\n",
        "    rescale=1./255,\n",
        "    rotation_range=10,\n",
        "    zoom_range = 0.1,\n",
        "    width_shift_range=0.0,\n",
        "    height_shift_range=0.00)"
      ]
    },
    {
      "cell_type": "code",
      "source": [
        "val_test_generator = ImageDataGenerator(rescale=1./255)"
      ],
      "metadata": {
        "id": "_ZVF6vrvdCG7"
      },
      "execution_count": null,
      "outputs": []
    },
    {
      "cell_type": "code",
      "source": [
        "\n"
      ],
      "metadata": {
        "id": "i_ww8JmIdITH"
      },
      "execution_count": null,
      "outputs": []
    },
    {
      "cell_type": "code",
      "execution_count": null,
      "metadata": {
        "colab": {
          "base_uri": "https://localhost:8080/"
        },
        "id": "VdLRjETg4XJu",
        "outputId": "adbf6d30-2a17-4712-d348-bba81617cf1f"
      },
      "outputs": [
        {
          "output_type": "stream",
          "name": "stdout",
          "text": [
            "Found 3452 validated image filenames belonging to 7 classes.\n"
          ]
        },
        {
          "output_type": "stream",
          "name": "stderr",
          "text": [
            "/usr/local/lib/python3.10/dist-packages/keras/src/legacy/preprocessing/image.py:920: UserWarning: Found 3446 invalid image filename(s) in x_col=\"image_full_name\". These filename(s) will be ignored.\n",
            "  warnings.warn(\n"
          ]
        }
      ],
      "source": [
        "train_data = train_generator.flow_from_dataframe(dataframe=train,\n",
        "                                                 batch_size=32,\n",
        "                                                 directory='/content/drive/MyDrive/skin cancer detection/HAM10000_images_part_1',\n",
        "                                                 x_col=\"image_full_name\",\n",
        "                                                 y_col=\"dx\",\n",
        "                                                 shuffle = True,\n",
        "                                                 class_mode=\"categorical\",\n",
        "                                                 target_size=(224, 224))"
      ]
    },
    {
      "cell_type": "markdown",
      "metadata": {
        "id": "g6ObaHaH4anh"
      },
      "source": []
    },
    {
      "cell_type": "code",
      "execution_count": null,
      "metadata": {
        "id": "zK-OacYl4XHP"
      },
      "outputs": [],
      "source": [
        "test_generator=ImageDataGenerator(rescale=1./255, rotation_range=10, zoom_range=0.1, width_shift_range=0.0, height_shift_range=0.02)"
      ]
    },
    {
      "cell_type": "code",
      "execution_count": null,
      "metadata": {
        "colab": {
          "base_uri": "https://localhost:8080/"
        },
        "id": "Cdan22JF4XC1",
        "outputId": "6ebda63f-c9e6-4c29-f120-0fa579d74e6e"
      },
      "outputs": [
        {
          "output_type": "stream",
          "name": "stdout",
          "text": [
            "Found 867 validated image filenames belonging to 7 classes.\n"
          ]
        },
        {
          "output_type": "stream",
          "name": "stderr",
          "text": [
            "/usr/local/lib/python3.10/dist-packages/keras/src/legacy/preprocessing/image.py:920: UserWarning: Found 836 invalid image filename(s) in x_col=\"image_full_name\". These filename(s) will be ignored.\n",
            "  warnings.warn(\n"
          ]
        }
      ],
      "source": [
        "test_data = test_generator.flow_from_dataframe(dataframe=test,\n",
        "                                                 batch_size=1,\n",
        "                                                 directory='/content/drive/MyDrive/skin cancer detection/HAM10000_images_part_2',\n",
        "                                                 x_col=\"image_full_name\",\n",
        "                                                 y_col=\"dx\",\n",
        "                                                 shuffle = False,\n",
        "                                                 class_mode=\"categorical\",\n",
        "                                                 target_size=(224, 224))"
      ]
    },
    {
      "cell_type": "code",
      "source": [
        "# Check a batch to verify everything is working\n",
        "x_batch, y_batch = next(train_data)\n",
        "print(\"Shape of a batch of images:\", x_batch.shape)  # Expected: (32, 224, 224, 3)\n",
        "print(\"Shape of a batch of labels:\", y_batch.shape)"
      ],
      "metadata": {
        "colab": {
          "base_uri": "https://localhost:8080/"
        },
        "id": "WtEk2HDgf9XX",
        "outputId": "edc54d4f-16a9-493d-b8c3-89d6effc9684"
      },
      "execution_count": null,
      "outputs": [
        {
          "output_type": "stream",
          "name": "stdout",
          "text": [
            "Shape of a batch of images: (32, 224, 224, 3)\n",
            "Shape of a batch of labels: (32, 7)\n"
          ]
        }
      ]
    },
    {
      "cell_type": "code",
      "execution_count": null,
      "metadata": {
        "colab": {
          "base_uri": "https://localhost:8080/"
        },
        "id": "x4P5EJkH4W87",
        "outputId": "6fb94122-32b9-4841-ad7a-6fb41aef18b9"
      },
      "outputs": [
        {
          "output_type": "stream",
          "name": "stdout",
          "text": [
            "Found 702 validated image filenames belonging to 7 classes.\n"
          ]
        },
        {
          "output_type": "stream",
          "name": "stderr",
          "text": [
            "/usr/local/lib/python3.10/dist-packages/keras/src/legacy/preprocessing/image.py:920: UserWarning: Found 712 invalid image filename(s) in x_col=\"image_full_name\". These filename(s) will be ignored.\n",
            "  warnings.warn(\n"
          ]
        }
      ],
      "source": [
        "val_data = test_generator.flow_from_dataframe(dataframe=val,\n",
        "                                                 batch_size=64,\n",
        "                                                 directory='/content/drive/MyDrive/skin cancer detection/HAM10000_images_part_2',\n",
        "                                                 x_col=\"image_full_name\",\n",
        "                                                 y_col=\"dx\",\n",
        "                                                 shuffle = False,\n",
        "                                                 class_mode=\"categorical\",\n",
        "                                                 target_size=(224, 224))"
      ]
    },
    {
      "cell_type": "code",
      "execution_count": null,
      "metadata": {
        "id": "hcQulxeu4W6c"
      },
      "outputs": [],
      "source": [
        "from keras.callbacks import ReduceLROnPlateau\n",
        "learning_control = ReduceLROnPlateau(monitor='val_acc', patience=3,\n",
        "                                    verbose=1,factor=0.5, min_lr=0.0001)"
      ]
    },
    {
      "cell_type": "code",
      "execution_count": null,
      "metadata": {
        "id": "ncsAQCD44WyM"
      },
      "outputs": [],
      "source": [
        "from keras.optimizers import Adam,SGD\n",
        "sgd = SGD(learning_rate = 0.01, clipvalue = 0.5)\n",
        "model.compile(optimizer=Adam(learning_rate=0.001), loss='categorical_crossentropy', metrics=['accuracy'])"
      ]
    },
    {
      "cell_type": "code",
      "execution_count": null,
      "metadata": {
        "colab": {
          "base_uri": "https://localhost:8080/"
        },
        "id": "qoQevsol4Wv0",
        "outputId": "cfb806b6-487f-4355-f553-0c9928eb09f3"
      },
      "outputs": [
        {
          "output_type": "stream",
          "name": "stdout",
          "text": [
            "Epoch 1/50\n"
          ]
        },
        {
          "output_type": "stream",
          "name": "stderr",
          "text": [
            "/usr/local/lib/python3.10/dist-packages/keras/src/trainers/data_adapters/py_dataset_adapter.py:121: UserWarning: Your `PyDataset` class should call `super().__init__(**kwargs)` in its constructor. `**kwargs` can include `workers`, `use_multiprocessing`, `max_queue_size`. Do not pass these arguments to `fit()`, as they will be ignored.\n",
            "  self._warn_if_super_not_called()\n"
          ]
        },
        {
          "output_type": "stream",
          "name": "stdout",
          "text": [
            "\u001b[1m107/107\u001b[0m \u001b[32m━━━━━━━━━━━━━━━━━━━━\u001b[0m\u001b[37m\u001b[0m \u001b[1m2275s\u001b[0m 20s/step - accuracy: 0.6139 - loss: 1.6312 - val_accuracy: 0.6500 - val_loss: 4.7021 - learning_rate: 0.0010\n",
            "Epoch 2/50\n"
          ]
        },
        {
          "output_type": "stream",
          "name": "stderr",
          "text": [
            "/usr/local/lib/python3.10/dist-packages/keras/src/callbacks/callback_list.py:96: UserWarning: Learning rate reduction is conditioned on metric `val_acc` which is not available. Available metrics are: accuracy,loss,val_accuracy,val_loss,learning_rate.\n",
            "  callback.on_epoch_end(epoch, logs)\n"
          ]
        },
        {
          "output_type": "stream",
          "name": "stdout",
          "text": [
            "\r\u001b[1m  1/107\u001b[0m \u001b[37m━━━━━━━━━━━━━━━━━━━━\u001b[0m \u001b[1m16:02\u001b[0m 9s/step - accuracy: 0.7500 - loss: 0.7686"
          ]
        },
        {
          "output_type": "stream",
          "name": "stderr",
          "text": [
            "/usr/lib/python3.10/contextlib.py:153: UserWarning: Your input ran out of data; interrupting training. Make sure that your dataset or generator can generate at least `steps_per_epoch * epochs` batches. You may need to use the `.repeat()` function when building your dataset.\n",
            "  self.gen.throw(typ, value, traceback)\n"
          ]
        },
        {
          "output_type": "stream",
          "name": "stdout",
          "text": [
            "\b\b\b\b\b\b\b\b\b\b\b\b\b\b\b\b\b\b\b\b\b\b\b\b\b\b\b\b\b\b\b\b\b\b\b\b\b\b\b\b\b\b\b\b\b\b\b\b\b\b\b\b\b\b\b\b\b\b\b\b\b\b\b\b\b\b\b\b\b\b\b\b\b\b\b\b\r\u001b[1m107/107\u001b[0m \u001b[32m━━━━━━━━━━━━━━━━━━━━\u001b[0m\u001b[37m\u001b[0m \u001b[1m83s\u001b[0m 694ms/step - accuracy: 0.7500 - loss: 0.7686 - val_accuracy: 0.6613 - val_loss: 4.4070 - learning_rate: 0.0010\n",
            "Epoch 3/50\n",
            "\u001b[1m107/107\u001b[0m \u001b[32m━━━━━━━━━━━━━━━━━━━━\u001b[0m\u001b[37m\u001b[0m \u001b[1m922s\u001b[0m 9s/step - accuracy: 0.7271 - loss: 0.8196 - val_accuracy: 0.6500 - val_loss: 1.7888 - learning_rate: 0.0010\n",
            "Epoch 4/50\n",
            "\u001b[1m107/107\u001b[0m \u001b[32m━━━━━━━━━━━━━━━━━━━━\u001b[0m\u001b[37m\u001b[0m \u001b[1m11s\u001b[0m 24ms/step - accuracy: 0.7812 - loss: 0.7403 - val_accuracy: 0.6613 - val_loss: 1.7154 - learning_rate: 0.0010\n",
            "Epoch 5/50\n",
            "\u001b[1m107/107\u001b[0m \u001b[32m━━━━━━━━━━━━━━━━━━━━\u001b[0m\u001b[37m\u001b[0m \u001b[1m914s\u001b[0m 8s/step - accuracy: 0.7438 - loss: 0.7285 - val_accuracy: 0.6516 - val_loss: 5.7492 - learning_rate: 0.0010\n",
            "Epoch 6/50\n",
            "\u001b[1m107/107\u001b[0m \u001b[32m━━━━━━━━━━━━━━━━━━━━\u001b[0m\u001b[37m\u001b[0m \u001b[1m40s\u001b[0m 293ms/step - accuracy: 0.7500 - loss: 0.8423 - val_accuracy: 0.6613 - val_loss: 6.5276 - learning_rate: 0.0010\n",
            "Epoch 7/50\n",
            "\u001b[1m107/107\u001b[0m \u001b[32m━━━━━━━━━━━━━━━━━━━━\u001b[0m\u001b[37m\u001b[0m \u001b[1m924s\u001b[0m 9s/step - accuracy: 0.7674 - loss: 0.6761 - val_accuracy: 0.6500 - val_loss: 6.3631 - learning_rate: 0.0010\n",
            "Epoch 8/50\n",
            "\u001b[1m107/107\u001b[0m \u001b[32m━━━━━━━━━━━━━━━━━━━━\u001b[0m\u001b[37m\u001b[0m \u001b[1m37s\u001b[0m 290ms/step - accuracy: 0.7500 - loss: 0.8290 - val_accuracy: 0.6613 - val_loss: 5.8001 - learning_rate: 0.0010\n",
            "Epoch 9/50\n",
            "\u001b[1m107/107\u001b[0m \u001b[32m━━━━━━━━━━━━━━━━━━━━\u001b[0m\u001b[37m\u001b[0m \u001b[1m923s\u001b[0m 9s/step - accuracy: 0.7773 - loss: 0.6317 - val_accuracy: 0.6453 - val_loss: 2.6535 - learning_rate: 0.0010\n",
            "Epoch 10/50\n",
            "\u001b[1m107/107\u001b[0m \u001b[32m━━━━━━━━━━━━━━━━━━━━\u001b[0m\u001b[37m\u001b[0m \u001b[1m37s\u001b[0m 288ms/step - accuracy: 0.7188 - loss: 0.8860 - val_accuracy: 0.6290 - val_loss: 2.5352 - learning_rate: 0.0010\n",
            "Epoch 11/50\n",
            "\u001b[1m107/107\u001b[0m \u001b[32m━━━━━━━━━━━━━━━━━━━━\u001b[0m\u001b[37m\u001b[0m \u001b[1m948s\u001b[0m 9s/step - accuracy: 0.7894 - loss: 0.6018 - val_accuracy: 0.6469 - val_loss: 3.4089 - learning_rate: 0.0010\n",
            "Epoch 12/50\n",
            "\u001b[1m107/107\u001b[0m \u001b[32m━━━━━━━━━━━━━━━━━━━━\u001b[0m\u001b[37m\u001b[0m \u001b[1m39s\u001b[0m 290ms/step - accuracy: 0.8438 - loss: 0.5539 - val_accuracy: 0.6613 - val_loss: 3.1584 - learning_rate: 0.0010\n",
            "Epoch 13/50\n",
            "\u001b[1m107/107\u001b[0m \u001b[32m━━━━━━━━━━━━━━━━━━━━\u001b[0m\u001b[37m\u001b[0m \u001b[1m917s\u001b[0m 8s/step - accuracy: 0.8193 - loss: 0.5355 - val_accuracy: 0.6453 - val_loss: 4.0538 - learning_rate: 0.0010\n",
            "Epoch 14/50\n",
            "\u001b[1m107/107\u001b[0m \u001b[32m━━━━━━━━━━━━━━━━━━━━\u001b[0m\u001b[37m\u001b[0m \u001b[1m11s\u001b[0m 22ms/step - accuracy: 0.7812 - loss: 0.6541 - val_accuracy: 0.6613 - val_loss: 3.4785 - learning_rate: 0.0010\n",
            "Epoch 15/50\n",
            "\u001b[1m107/107\u001b[0m \u001b[32m━━━━━━━━━━━━━━━━━━━━\u001b[0m\u001b[37m\u001b[0m \u001b[1m897s\u001b[0m 8s/step - accuracy: 0.8174 - loss: 0.5406 - val_accuracy: 0.6406 - val_loss: 1.7808 - learning_rate: 0.0010\n",
            "Epoch 16/50\n",
            "\u001b[1m107/107\u001b[0m \u001b[32m━━━━━━━━━━━━━━━━━━━━\u001b[0m\u001b[37m\u001b[0m \u001b[1m11s\u001b[0m 23ms/step - accuracy: 0.8438 - loss: 0.4948 - val_accuracy: 0.6613 - val_loss: 1.8149 - learning_rate: 0.0010\n",
            "Epoch 17/50\n",
            "\u001b[1m107/107\u001b[0m \u001b[32m━━━━━━━━━━━━━━━━━━━━\u001b[0m\u001b[37m\u001b[0m \u001b[1m885s\u001b[0m 8s/step - accuracy: 0.8228 - loss: 0.5276 - val_accuracy: 0.6281 - val_loss: 2.5371 - learning_rate: 0.0010\n",
            "Epoch 18/50\n",
            "\u001b[1m107/107\u001b[0m \u001b[32m━━━━━━━━━━━━━━━━━━━━\u001b[0m\u001b[37m\u001b[0m \u001b[1m10s\u001b[0m 22ms/step - accuracy: 0.8438 - loss: 0.4018 - val_accuracy: 0.6613 - val_loss: 2.5991 - learning_rate: 0.0010\n",
            "Epoch 19/50\n",
            "\u001b[1m107/107\u001b[0m \u001b[32m━━━━━━━━━━━━━━━━━━━━\u001b[0m\u001b[37m\u001b[0m \u001b[1m884s\u001b[0m 8s/step - accuracy: 0.8441 - loss: 0.4570 - val_accuracy: 0.6500 - val_loss: 2.6596 - learning_rate: 0.0010\n",
            "Epoch 20/50\n",
            "\u001b[1m107/107\u001b[0m \u001b[32m━━━━━━━━━━━━━━━━━━━━\u001b[0m\u001b[37m\u001b[0m \u001b[1m9s\u001b[0m 22ms/step - accuracy: 0.7812 - loss: 0.5324 - val_accuracy: 0.6613 - val_loss: 3.0160 - learning_rate: 0.0010\n",
            "Epoch 21/50\n",
            "\u001b[1m107/107\u001b[0m \u001b[32m━━━━━━━━━━━━━━━━━━━━\u001b[0m\u001b[37m\u001b[0m \u001b[1m885s\u001b[0m 8s/step - accuracy: 0.8651 - loss: 0.4237 - val_accuracy: 0.6406 - val_loss: 2.1262 - learning_rate: 0.0010\n",
            "Epoch 22/50\n",
            "\u001b[1m107/107\u001b[0m \u001b[32m━━━━━━━━━━━━━━━━━━━━\u001b[0m\u001b[37m\u001b[0m \u001b[1m11s\u001b[0m 22ms/step - accuracy: 0.9062 - loss: 0.5154 - val_accuracy: 0.6452 - val_loss: 2.0028 - learning_rate: 0.0010\n",
            "Epoch 23/50\n",
            "\u001b[1m107/107\u001b[0m \u001b[32m━━━━━━━━━━━━━━━━━━━━\u001b[0m\u001b[37m\u001b[0m \u001b[1m917s\u001b[0m 8s/step - accuracy: 0.8669 - loss: 0.4139 - val_accuracy: 0.6234 - val_loss: 2.0571 - learning_rate: 0.0010\n",
            "Epoch 24/50\n",
            "\u001b[1m107/107\u001b[0m \u001b[32m━━━━━━━━━━━━━━━━━━━━\u001b[0m\u001b[37m\u001b[0m \u001b[1m10s\u001b[0m 23ms/step - accuracy: 0.7812 - loss: 0.4990 - val_accuracy: 0.5968 - val_loss: 2.2546 - learning_rate: 0.0010\n",
            "Epoch 25/50\n",
            "\u001b[1m107/107\u001b[0m \u001b[32m━━━━━━━━━━━━━━━━━━━━\u001b[0m\u001b[37m\u001b[0m \u001b[1m925s\u001b[0m 8s/step - accuracy: 0.8555 - loss: 0.3963 - val_accuracy: 0.5516 - val_loss: 5.6667 - learning_rate: 0.0010\n",
            "Epoch 26/50\n",
            "\u001b[1m107/107\u001b[0m \u001b[32m━━━━━━━━━━━━━━━━━━━━\u001b[0m\u001b[37m\u001b[0m \u001b[1m36s\u001b[0m 274ms/step - accuracy: 0.8438 - loss: 0.6113 - val_accuracy: 0.5968 - val_loss: 5.5647 - learning_rate: 0.0010\n",
            "Epoch 27/50\n",
            "\u001b[1m107/107\u001b[0m \u001b[32m━━━━━━━━━━━━━━━━━━━━\u001b[0m\u001b[37m\u001b[0m \u001b[1m863s\u001b[0m 8s/step - accuracy: 0.8508 - loss: 0.4166 - val_accuracy: 0.6516 - val_loss: 39.1254 - learning_rate: 0.0010\n",
            "Epoch 28/50\n",
            "\u001b[1m107/107\u001b[0m \u001b[32m━━━━━━━━━━━━━━━━━━━━\u001b[0m\u001b[37m\u001b[0m \u001b[1m8s\u001b[0m 23ms/step - accuracy: 0.8125 - loss: 0.4509 - val_accuracy: 0.6613 - val_loss: 42.5312 - learning_rate: 0.0010\n",
            "Epoch 29/50\n",
            "\u001b[1m107/107\u001b[0m \u001b[32m━━━━━━━━━━━━━━━━━━━━\u001b[0m\u001b[37m\u001b[0m \u001b[1m852s\u001b[0m 8s/step - accuracy: 0.8454 - loss: 0.4745 - val_accuracy: 0.6406 - val_loss: 65.0119 - learning_rate: 0.0010\n",
            "Epoch 30/50\n",
            "\u001b[1m107/107\u001b[0m \u001b[32m━━━━━━━━━━━━━━━━━━━━\u001b[0m\u001b[37m\u001b[0m \u001b[1m13s\u001b[0m 23ms/step - accuracy: 0.8750 - loss: 0.3446 - val_accuracy: 0.6613 - val_loss: 73.3491 - learning_rate: 0.0010\n",
            "Epoch 31/50\n",
            "\u001b[1m107/107\u001b[0m \u001b[32m━━━━━━━━━━━━━━━━━━━━\u001b[0m\u001b[37m\u001b[0m \u001b[1m923s\u001b[0m 8s/step - accuracy: 0.8572 - loss: 0.5285 - val_accuracy: 0.6422 - val_loss: 13.7573 - learning_rate: 0.0010\n",
            "Epoch 32/50\n",
            "\u001b[1m107/107\u001b[0m \u001b[32m━━━━━━━━━━━━━━━━━━━━\u001b[0m\u001b[37m\u001b[0m \u001b[1m11s\u001b[0m 35ms/step - accuracy: 0.8125 - loss: 0.4627 - val_accuracy: 0.6613 - val_loss: 13.9685 - learning_rate: 0.0010\n",
            "Epoch 33/50\n",
            "\u001b[1m107/107\u001b[0m \u001b[32m━━━━━━━━━━━━━━━━━━━━\u001b[0m\u001b[37m\u001b[0m \u001b[1m869s\u001b[0m 8s/step - accuracy: 0.8706 - loss: 0.3789 - val_accuracy: 0.6516 - val_loss: 7.6377 - learning_rate: 0.0010\n",
            "Epoch 34/50\n",
            "\u001b[1m107/107\u001b[0m \u001b[32m━━━━━━━━━━━━━━━━━━━━\u001b[0m\u001b[37m\u001b[0m \u001b[1m12s\u001b[0m 37ms/step - accuracy: 0.8125 - loss: 0.4706 - val_accuracy: 0.6452 - val_loss: 7.5221 - learning_rate: 0.0010\n",
            "Epoch 35/50\n",
            "\u001b[1m107/107\u001b[0m \u001b[32m━━━━━━━━━━━━━━━━━━━━\u001b[0m\u001b[37m\u001b[0m \u001b[1m855s\u001b[0m 8s/step - accuracy: 0.8872 - loss: 0.3393 - val_accuracy: 0.6578 - val_loss: 9.4514 - learning_rate: 0.0010\n",
            "Epoch 36/50\n",
            "\u001b[1m107/107\u001b[0m \u001b[32m━━━━━━━━━━━━━━━━━━━━\u001b[0m\u001b[37m\u001b[0m \u001b[1m38s\u001b[0m 301ms/step - accuracy: 0.9375 - loss: 0.3689 - val_accuracy: 0.6290 - val_loss: 10.9430 - learning_rate: 0.0010\n",
            "Epoch 37/50\n",
            "\u001b[1m107/107\u001b[0m \u001b[32m━━━━━━━━━━━━━━━━━━━━\u001b[0m\u001b[37m\u001b[0m \u001b[1m858s\u001b[0m 8s/step - accuracy: 0.9011 - loss: 0.3005 - val_accuracy: 0.4859 - val_loss: 5.3787 - learning_rate: 0.0010\n",
            "Epoch 38/50\n",
            "\u001b[1m107/107\u001b[0m \u001b[32m━━━━━━━━━━━━━━━━━━━━\u001b[0m\u001b[37m\u001b[0m \u001b[1m10s\u001b[0m 23ms/step - accuracy: 0.9062 - loss: 0.2140 - val_accuracy: 0.5323 - val_loss: 7.3064 - learning_rate: 0.0010\n",
            "Epoch 39/50\n",
            "\u001b[1m107/107\u001b[0m \u001b[32m━━━━━━━━━━━━━━━━━━━━\u001b[0m\u001b[37m\u001b[0m \u001b[1m863s\u001b[0m 8s/step - accuracy: 0.8896 - loss: 0.3541 - val_accuracy: 0.4437 - val_loss: 1.8123 - learning_rate: 0.0010\n",
            "Epoch 40/50\n",
            "\u001b[1m107/107\u001b[0m \u001b[32m━━━━━━━━━━━━━━━━━━━━\u001b[0m\u001b[37m\u001b[0m \u001b[1m10s\u001b[0m 23ms/step - accuracy: 0.9375 - loss: 0.2978 - val_accuracy: 0.4839 - val_loss: 1.9223 - learning_rate: 0.0010\n",
            "Epoch 41/50\n",
            "\u001b[1m107/107\u001b[0m \u001b[32m━━━━━━━━━━━━━━━━━━━━\u001b[0m\u001b[37m\u001b[0m \u001b[1m886s\u001b[0m 8s/step - accuracy: 0.8728 - loss: 0.3732 - val_accuracy: 0.6438 - val_loss: 1.5957 - learning_rate: 0.0010\n",
            "Epoch 42/50\n",
            "\u001b[1m107/107\u001b[0m \u001b[32m━━━━━━━━━━━━━━━━━━━━\u001b[0m\u001b[37m\u001b[0m \u001b[1m9s\u001b[0m 23ms/step - accuracy: 0.8750 - loss: 0.3877 - val_accuracy: 0.6129 - val_loss: 1.8636 - learning_rate: 0.0010\n",
            "Epoch 43/50\n",
            "\u001b[1m107/107\u001b[0m \u001b[32m━━━━━━━━━━━━━━━━━━━━\u001b[0m\u001b[37m\u001b[0m \u001b[1m872s\u001b[0m 8s/step - accuracy: 0.9176 - loss: 0.2650 - val_accuracy: 0.6734 - val_loss: 9.4339 - learning_rate: 0.0010\n",
            "Epoch 44/50\n",
            "\u001b[1m107/107\u001b[0m \u001b[32m━━━━━━━━━━━━━━━━━━━━\u001b[0m\u001b[37m\u001b[0m \u001b[1m37s\u001b[0m 286ms/step - accuracy: 0.9375 - loss: 0.2597 - val_accuracy: 0.6613 - val_loss: 10.7817 - learning_rate: 0.0010\n",
            "Epoch 45/50\n",
            "\u001b[1m107/107\u001b[0m \u001b[32m━━━━━━━━━━━━━━━━━━━━\u001b[0m\u001b[37m\u001b[0m \u001b[1m866s\u001b[0m 8s/step - accuracy: 0.9169 - loss: 0.2757 - val_accuracy: 0.6297 - val_loss: 12.6936 - learning_rate: 0.0010\n",
            "Epoch 46/50\n",
            "\u001b[1m107/107\u001b[0m \u001b[32m━━━━━━━━━━━━━━━━━━━━\u001b[0m\u001b[37m\u001b[0m \u001b[1m38s\u001b[0m 304ms/step - accuracy: 0.8438 - loss: 0.4275 - val_accuracy: 0.6290 - val_loss: 15.2212 - learning_rate: 0.0010\n",
            "Epoch 47/50\n",
            "\u001b[1m107/107\u001b[0m \u001b[32m━━━━━━━━━━━━━━━━━━━━\u001b[0m\u001b[37m\u001b[0m \u001b[1m866s\u001b[0m 8s/step - accuracy: 0.8484 - loss: 0.4545 - val_accuracy: 0.6844 - val_loss: 16.2895 - learning_rate: 0.0010\n",
            "Epoch 48/50\n",
            "\u001b[1m107/107\u001b[0m \u001b[32m━━━━━━━━━━━━━━━━━━━━\u001b[0m\u001b[37m\u001b[0m \u001b[1m10s\u001b[0m 23ms/step - accuracy: 0.9375 - loss: 0.2302 - val_accuracy: 0.6613 - val_loss: 16.1325 - learning_rate: 0.0010\n",
            "Epoch 49/50\n",
            "\u001b[1m107/107\u001b[0m \u001b[32m━━━━━━━━━━━━━━━━━━━━\u001b[0m\u001b[37m\u001b[0m \u001b[1m863s\u001b[0m 8s/step - accuracy: 0.8876 - loss: 0.3472 - val_accuracy: 0.4500 - val_loss: 2.6195 - learning_rate: 0.0010\n",
            "Epoch 50/50\n",
            "\u001b[1m107/107\u001b[0m \u001b[32m━━━━━━━━━━━━━━━━━━━━\u001b[0m\u001b[37m\u001b[0m \u001b[1m10s\u001b[0m 23ms/step - accuracy: 0.8750 - loss: 0.4427 - val_accuracy: 0.5000 - val_loss: 4.7048 - learning_rate: 0.0010\n"
          ]
        }
      ],
      "source": [
        "history=model.fit(train_data, steps_per_epoch=train_data.samples//train_data.batch_size,\n",
        "                            validation_data=val_data, verbose=1,\n",
        "                            validation_steps=val_data.samples//val_data.batch_size,\n",
        "                            epochs=50, callbacks=[learning_control])"
      ]
    },
    {
      "cell_type": "code",
      "execution_count": null,
      "metadata": {
        "colab": {
          "base_uri": "https://localhost:8080/"
        },
        "id": "1IC4byFw4WqE",
        "outputId": "27eb1f85-308a-4b5b-871a-1c77e1d7574e"
      },
      "outputs": [
        {
          "output_type": "stream",
          "name": "stderr",
          "text": [
            "WARNING:absl:You are saving your model as an HDF5 file via `model.save()` or `keras.saving.save_model(model)`. This file format is considered legacy. We recommend using instead the native Keras format, e.g. `model.save('my_model.keras')` or `keras.saving.save_model(model, 'my_model.keras')`. \n"
          ]
        }
      ],
      "source": [
        "model.save('modelscd.h5')"
      ]
    },
    {
      "cell_type": "code",
      "execution_count": null,
      "metadata": {
        "colab": {
          "base_uri": "https://localhost:8080/",
          "height": 472
        },
        "id": "mu1OpBcM4WnH",
        "outputId": "f44fd3bf-41db-425a-d8e5-4cbf04333299"
      },
      "outputs": [
        {
          "output_type": "display_data",
          "data": {
            "text/plain": [
              "<Figure size 640x480 with 1 Axes>"
            ],
            "image/png": "[encoded data removed]"
          },
          "metadata": {}
        }
      ],
      "source": [
        "plt.plot(history.history['accuracy'])\n",
        "plt.plot(history.history['val_accuracy'])\n",
        "plt.title('model accuracy')\n",
        "plt.ylabel('accuracy')\n",
        "plt.xlabel('epoch')\n",
        "plt.legend(['train', 'test'], loc='upper left')\n",
        "plt.show()"
      ]
    },
    {
      "cell_type": "code",
      "execution_count": null,
      "metadata": {
        "id": "nb6ZXt6z4Wj3",
        "colab": {
          "base_uri": "https://localhost:8080/",
          "height": 477
        },
        "outputId": "c864f2c9-ba22-4ee9-83d6-267dea4f0cdb"
      },
      "outputs": [
        {
          "output_type": "display_data",
          "data": {
            "text/plain": [
              "<Figure size 640x480 with 1 Axes>"
            ],
            "image/png": "[encoded data removed]"
          },
          "metadata": {}
        }
      ],
      "source": [
        "plt.plot(history.history['loss'])\n",
        "plt.plot(history.history['val_loss'])\n",
        "plt.title('model accuracy')\n",
        "plt.ylabel('accuracy')\n",
        "plt.xlabel('epoch')\n",
        "plt.legend(['train', 'test'], loc='upper left')\n",
        "plt.show()"
      ]
    },
    {
      "cell_type": "code",
      "execution_count": null,
      "metadata": {
        "id": "JrJ__X-54Wa9",
        "colab": {
          "base_uri": "https://localhost:8080/",
          "height": 494
        },
        "outputId": "3de9fefa-d86e-4ea3-983f-791d805ad593"
      },
      "outputs": [
        {
          "output_type": "execute_result",
          "data": {
            "text/plain": [
              "<matplotlib.legend.Legend at 0x7c58f085b3d0>"
            ]
          },
          "metadata": {},
          "execution_count": 34
        },
        {
          "output_type": "display_data",
          "data": {
            "text/plain": [
              "<Figure size 640x480 with 1 Axes>"
            ],
            "image/png": "[encoded data removed]"
          },
          "metadata": {}
        }
      ],
      "source": [
        "  N = 50\n",
        "  plt.style.use(\"ggplot\")\n",
        "  plt.figure()\n",
        "  plt.plot(np.arange(0, N), history.history[\"loss\"], label=\"train_loss\")\n",
        "  plt.plot(np.arange(0, N), history.history[\"val_loss\"], label=\"val_loss\")\n",
        "  plt.plot(np.arange(0, N), history.history[\"accuracy\"], label=\"train_acc\")\n",
        "  plt.plot(np.arange(0, N), history.history[\"val_accuracy\"], label=\"val_acc\")\n",
        "  plt.title(\"Training Loss and Accuracy\")\n",
        "  plt.xlabel(\"Epoch #\")\n",
        "  plt.ylabel(\"Loss/Accuracy\")\n",
        "  plt.legend(loc=\"lower left\")\n"
      ]
    },
    {
      "cell_type": "code",
      "execution_count": null,
      "metadata": {
        "id": "VHNG4PPJMnEc",
        "colab": {
          "base_uri": "https://localhost:8080/"
        },
        "outputId": "859db355-3755-4abc-d8dd-2b77cb32c5bc"
      },
      "outputs": [
        {
          "output_type": "stream",
          "name": "stderr",
          "text": [
            "/usr/local/lib/python3.10/dist-packages/keras/src/trainers/data_adapters/py_dataset_adapter.py:121: UserWarning: Your `PyDataset` class should call `super().__init__(**kwargs)` in its constructor. `**kwargs` can include `workers`, `use_multiprocessing`, `max_queue_size`. Do not pass these arguments to `fit()`, as they will be ignored.\n",
            "  self._warn_if_super_not_called()\n"
          ]
        },
        {
          "output_type": "stream",
          "name": "stdout",
          "text": [
            "\u001b[1m867/867\u001b[0m \u001b[32m━━━━━━━━━━━━━━━━━━━━\u001b[0m\u001b[37m\u001b[0m \u001b[1m659s\u001b[0m 759ms/step\n"
          ]
        }
      ],
      "source": [
        "test_data.reset()\n",
        "predictions=model.predict(test_data,verbose=1,steps=test_data.samples//test_data.batch_size)\n",
        "y_pred = np.argmax(predictions, axis=1)"
      ]
    },
    {
      "cell_type": "code",
      "execution_count": null,
      "metadata": {
        "id": "HLSH6Hw5_aE1",
        "colab": {
          "base_uri": "https://localhost:8080/"
        },
        "outputId": "cbbbb7cf-bc12-4439-d8df-7b5b7ee80a1d"
      },
      "outputs": [
        {
          "output_type": "stream",
          "name": "stdout",
          "text": [
            "867 1703\n"
          ]
        }
      ],
      "source": [
        "print(len(y_pred), len(test['label']))"
      ]
    },
    {
      "cell_type": "code",
      "execution_count": null,
      "metadata": {
        "id": "tr0raOqH_jy6"
      },
      "outputs": [],
      "source": [
        "if len(y_pred) > len(test['label']):\n",
        "    y_pred = y_pred[:len(test['label'])]\n",
        "else:\n",
        "    test_labels = test['label'][:len(y_pred)]\n",
        "\n",
        "# Now both arrays have the same size\n",
        "c = np.where(y_pred == test_labels)\n"
      ]
    },
    {
      "cell_type": "code",
      "execution_count": null,
      "metadata": {
        "id": "M7pUcQb4Mm-l"
      },
      "outputs": [],
      "source": [
        "\n",
        "\n"
      ]
    },
    {
      "cell_type": "code",
      "execution_count": null,
      "metadata": {
        "id": "QgEQy1INMm74",
        "colab": {
          "base_uri": "https://localhost:8080/"
        },
        "outputId": "d0cacfea-623b-4c0e-93aa-aa45f1a0a226"
      },
      "outputs": [
        {
          "output_type": "execute_result",
          "data": {
            "text/plain": [
              "213"
            ]
          },
          "metadata": {},
          "execution_count": 40
        }
      ],
      "source": [
        "np.count_nonzero(c)"
      ]
    },
    {
      "cell_type": "code",
      "execution_count": null,
      "metadata": {
        "id": "lTUkR1RlMm5n",
        "colab": {
          "base_uri": "https://localhost:8080/"
        },
        "outputId": "b70bf85b-ae98-4d0e-aa18-82d2fce30dc8"
      },
      "outputs": [
        {
          "output_type": "stream",
          "name": "stdout",
          "text": [
            "test accuracy: 78.6878945678\n"
          ]
        }
      ],
      "source": [
        "print(\"test accuracy:\",(np.count_nonzero(c)/len(test_labels))*100)"
      ]
    },
    {
      "cell_type": "code",
      "execution_count": null,
      "metadata": {
        "id": "0gGDNUvPN_q4"
      },
      "outputs": [],
      "source": []
    },
    {
      "cell_type": "markdown",
      "source": [
        "RESNET"
      ],
      "metadata": {
        "id": "UGa7LaCrZxWN"
      }
    },
    {
      "cell_type": "code",
      "source": [
        "%matplotlib inline\n",
        "# python libraties\n",
        "import os, cv2,itertools\n",
        "import matplotlib.pyplot as plt\n",
        "import numpy as np\n",
        "import pandas as pd\n",
        "from tqdm import tqdm\n",
        "from glob import glob\n",
        "from PIL import Image\n",
        "\n",
        "# pytorch libraries\n",
        "import torch\n",
        "from torch import optim,nn\n",
        "from torch.autograd import Variable\n",
        "from torch.utils.data import DataLoader,Dataset\n",
        "from torchvision import models,transforms\n",
        "\n",
        "# sklearn libraries\n",
        "from sklearn.metrics import confusion_matrix\n",
        "from sklearn.model_selection import train_test_split\n",
        "from sklearn.metrics import classification_report\n",
        "\n",
        "# ensure results are reproducible\n",
        "np.random.seed(10)\n",
        "torch.manual_seed(10)\n",
        "torch.cuda.manual_seed(10)\n"
      ],
      "metadata": {
        "colab": {
          "base_uri": "https://localhost:8080/"
        },
        "id": "m5me-hfnZzW4",
        "outputId": "295374ce-3b35-4db5-9b8a-6ddf62ce449e"
      },
      "execution_count": null,
      "outputs": [
        {
          "output_type": "stream",
          "name": "stdout",
          "text": [
            "[]\n"
          ]
        }
      ]
    },
    {
      "cell_type": "code",
      "source": [
        "pip install kaggle"
      ],
      "metadata": {
        "colab": {
          "base_uri": "https://localhost:8080/"
        },
        "id": "oALOIqF0aMbt",
        "outputId": "ac7c90f6-2ee1-4063-b673-0d2a75032702"
      },
      "execution_count": null,
      "outputs": [
        {
          "output_type": "stream",
          "name": "stdout",
          "text": [
            "Requirement already satisfied: kaggle in /usr/local/lib/python3.10/dist-packages (1.6.17)\n",
            "Requirement already satisfied: six>=1.10 in /usr/local/lib/python3.10/dist-packages (from kaggle) (1.16.0)\n",
            "Requirement already satisfied: certifi>=2023.7.22 in /usr/local/lib/python3.10/dist-packages (from kaggle) (2024.8.30)\n",
            "Requirement already satisfied: python-dateutil in /usr/local/lib/python3.10/dist-packages (from kaggle) (2.8.2)\n",
            "Requirement already satisfied: requests in /usr/local/lib/python3.10/dist-packages (from kaggle) (2.32.3)\n",
            "Requirement already satisfied: tqdm in /usr/local/lib/python3.10/dist-packages (from kaggle) (4.66.6)\n",
            "Requirement already satisfied: python-slugify in /usr/local/lib/python3.10/dist-packages (from kaggle) (8.0.4)\n",
            "Requirement already satisfied: urllib3 in /usr/local/lib/python3.10/dist-packages (from kaggle) (2.2.3)\n",
            "Requirement already satisfied: bleach in /usr/local/lib/python3.10/dist-packages (from kaggle) (6.2.0)\n",
            "Requirement already satisfied: webencodings in /usr/local/lib/python3.10/dist-packages (from bleach->kaggle) (0.5.1)\n",
            "Requirement already satisfied: text-unidecode>=1.3 in /usr/local/lib/python3.10/dist-packages (from python-slugify->kaggle) (1.3)\n",
            "Requirement already satisfied: charset-normalizer<4,>=2 in /usr/local/lib/python3.10/dist-packages (from requests->kaggle) (3.4.0)\n",
            "Requirement already satisfied: idna<4,>=2.5 in /usr/local/lib/python3.10/dist-packages (from requests->kaggle) (3.10)\n"
          ]
        }
      ]
    },
    {
      "cell_type": "code",
      "source": [
        "import os\n",
        "os.environ['KAGGLE_CONFIG_DIR'] = \"/content/\"\n"
      ],
      "metadata": {
        "id": "ckIIY9djeCK_"
      },
      "execution_count": null,
      "outputs": []
    },
    {
      "cell_type": "code",
      "source": [
        "print(os.listdir('/kaggle/input/skin-cancer-mnist-ham10000'))\n"
      ],
      "metadata": {
        "colab": {
          "base_uri": "https://localhost:8080/",
          "height": 158
        },
        "id": "KRbXDMZcfBFI",
        "outputId": "2478059f-003b-4179-e628-2f17fa4f2c7b"
      },
      "execution_count": null,
      "outputs": [
        {
          "output_type": "error",
          "ename": "FileNotFoundError",
          "evalue": "[Errno 2] No such file or directory: '/kaggle/input/skin-cancer-mnist-ham10000'",
          "traceback": [
            "\u001b[0;31m---------------------------------------------------------------------------\u001b[0m",
            "\u001b[0;31mFileNotFoundError\u001b[0m                         Traceback (most recent call last)",
            "\u001b[0;32m<ipython-input-6-ed23bf6d4797>\u001b[0m in \u001b[0;36m<cell line: 1>\u001b[0;34m()\u001b[0m\n\u001b[0;32m----> 1\u001b[0;31m \u001b[0mprint\u001b[0m\u001b[0;34m(\u001b[0m\u001b[0mos\u001b[0m\u001b[0;34m.\u001b[0m\u001b[0mlistdir\u001b[0m\u001b[0;34m(\u001b[0m\u001b[0;34m'/kaggle/input/skin-cancer-mnist-ham10000'\u001b[0m\u001b[0;34m)\u001b[0m\u001b[0;34m)\u001b[0m\u001b[0;34m\u001b[0m\u001b[0;34m\u001b[0m\u001b[0m\n\u001b[0m",
            "\u001b[0;31mFileNotFoundError\u001b[0m: [Errno 2] No such file or directory: '/kaggle/input/skin-cancer-mnist-ham10000'"
          ]
        }
      ]
    }
  ],
  "metadata": {
    "accelerator": "GPU",
    "colab": {
      "gpuType": "T4",
      "provenance": [],
      "include_colab_link": true
    },
    "kernelspec": {
      "display_name": "Python 3",
      "name": "python3"
    },
    "language_info": {
      "name": "python"
    }
  },
  "nbformat": 4,
  "nbformat_minor": 0
}